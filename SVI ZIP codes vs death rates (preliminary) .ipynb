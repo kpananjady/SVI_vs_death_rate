{
 "cells": [
  {
   "cell_type": "markdown",
   "metadata": {},
   "source": [
    "# What this file does"
   ]
  },
  {
   "cell_type": "markdown",
   "metadata": {},
   "source": [
    "Research question: Do SVI ZIP codes line up with ZIP codes with high death rates in CT? \n",
    "\n",
    "Answer: Not really? Weak correlation. 60% of the top 60 ZIP codes in terms of death rate are not SVI ZIP codes. Put another way: Just under half of SVI ZIP codes appear in the top-60 list of ZIP codes sorted by death rate per capita. Preliminary viz: https://public.flourish.studio/visualisation/5560351/\n",
    "\n",
    "Sources: CT DH Provisional Death data (through Nov 2020), CT DPH's list of SVI zip codes, Population by ZIP code from Cubit (https://www.connecticut-demographics.com/zip_codes_by_population; <b>Note to me: Spot check this data's quality</b>), CT Data Collaborative's ZIP code to town converter (https://github.com/CT-Data-Collaborative/ct-zip-to-town/blob/master/data/zip2town.csv)\n",
    "\n",
    "Methodology notes: Death rates factor out nursing home, hospice deaths where death certificates indicate that the person died there. The analysis considers the ZIP code that the person lived in, not where they died. Data do not include deaths from second wave.\n",
    "\n",
    "Index:\n",
    "- 1. Wrangling death data \n",
    "- 2. Cleaning ZIP code data \n",
    "- 3. Merging with ZIP code population \n",
    "- 4. Comparing with SVI list\n",
    "- 5. Mapping back to towns\n",
    "- 6. Pearson correlation coefficent"
   ]
  },
  {
   "cell_type": "code",
   "execution_count": 226,
   "metadata": {},
   "outputs": [],
   "source": [
    "#tools\n",
    "import pandas as pd"
   ]
  },
  {
   "cell_type": "markdown",
   "metadata": {},
   "source": [
    "# 1. Wrangling death data"
   ]
  },
  {
   "cell_type": "markdown",
   "metadata": {},
   "source": [
    "Data dictionary in separate excel file."
   ]
  },
  {
   "cell_type": "code",
   "execution_count": 227,
   "metadata": {},
   "outputs": [
    {
     "name": "stderr",
     "output_type": "stream",
     "text": [
      "/Users/kasturipananjady/.pyenv/versions/3.7.1/lib/python3.7/site-packages/IPython/core/interactiveshell.py:3146: DtypeWarning: Columns (22,53,54,55) have mixed types.Specify dtype option on import or set low_memory=False.\n",
      "  interactivity=interactivity, compiler=compiler, result=result)\n"
     ]
    }
   ],
   "source": [
    "#read in file; provisional data through Nov 2020\n",
    "df = pd.read_csv('deaths_deid_2020prov_v20210225.csv', encoding='latin-1', dtype={'DOD': object})\n",
    "df['Date of Death (Fixed)'] = pd.to_datetime(df['DOD'] + df['DTHYR'].astype(str), format = '%m%d%Y')"
   ]
  },
  {
   "cell_type": "code",
   "execution_count": 228,
   "metadata": {},
   "outputs": [
    {
     "name": "stderr",
     "output_type": "stream",
     "text": [
      "/Users/kasturipananjady/.pyenv/versions/3.7.1/lib/python3.7/site-packages/pandas/core/computation/expressions.py:68: FutureWarning: elementwise comparison failed; returning scalar instead, but in the future will perform elementwise comparison\n",
      "  return op(a, b)\n",
      "/Users/kasturipananjady/.pyenv/versions/3.7.1/lib/python3.7/site-packages/pandas/core/computation/expressions.py:68: FutureWarning: elementwise comparison failed; returning scalar instead, but in the future will perform elementwise comparison\n",
      "  return op(a, b)\n",
      "/Users/kasturipananjady/.pyenv/versions/3.7.1/lib/python3.7/site-packages/pandas/core/computation/expressions.py:68: FutureWarning: elementwise comparison failed; returning scalar instead, but in the future will perform elementwise comparison\n",
      "  return op(a, b)\n",
      "/Users/kasturipananjady/.pyenv/versions/3.7.1/lib/python3.7/site-packages/pandas/core/computation/expressions.py:68: FutureWarning: elementwise comparison failed; returning scalar instead, but in the future will perform elementwise comparison\n",
      "  return op(a, b)\n"
     ]
    }
   ],
   "source": [
    "#filtering for COVID\n",
    "df_covid = df[(df['PCAUSE']=='U071')|(df['PCAUSE']=='U072')|(df['COD1']=='U071')|(df['COD1']=='U072')|(df['COD2']=='U071')|(df['COD2']=='U072')|(df['COD3']=='U071')|(df['COD3']=='U072')|(df['COD4']=='U071')|(df['COD4']=='U072')|(df['COD5']=='U071')|(df['COD5']=='U072')|(df['COD6']=='U071')|(df['COD6']=='U072')|(df['COD7']=='U071')|(df['COD7']=='U072')|(df['COD8']=='U071')|(df['COD8']=='U072')|(df['COD9']=='U071')|(df['COD9']=='U072')|(df['COD10']=='U071')|(df['COD10']=='U072')|(df['COD11']=='U071')|(df['COD11']=='U072')|(df['COD12']=='U071')|(df['COD12']=='U072')|(df['COD13']=='U071')|(df['COD13']=='U072')|(df['COD14']=='U071')|(df['COD14']=='U072')|(df['COD15']=='U071')|(df['COD15']=='U072')]"
   ]
  },
  {
   "cell_type": "code",
   "execution_count": 229,
   "metadata": {},
   "outputs": [
    {
     "data": {
      "text/plain": [
       "5124"
      ]
     },
     "execution_count": 229,
     "metadata": {},
     "output_type": "execute_result"
    }
   ],
   "source": [
    "#sanity check; yes, lines up with end of Nov COVID nos, roughly \n",
    "len(df_covid)"
   ]
  },
  {
   "cell_type": "code",
   "execution_count": 230,
   "metadata": {},
   "outputs": [],
   "source": [
    "#take out nursing homes\n",
    "df_covid_not_nursing_homes = df_covid[df_covid['POD_TYPE_label']!='Nursing Home']"
   ]
  },
  {
   "cell_type": "code",
   "execution_count": 231,
   "metadata": {},
   "outputs": [],
   "source": [
    "#take out hospice\n",
    "df_covid_not_nursing_homes_or_hospice = df_covid_not_nursing_homes[df_covid_not_nursing_homes['POD_TYPE_label']!='Hospice Facility']"
   ]
  },
  {
   "cell_type": "code",
   "execution_count": 232,
   "metadata": {},
   "outputs": [],
   "source": [
    "#save deaths by zipcode\n",
    "df_zipcodes_deaths = pd.DataFrame(df_covid_not_nursing_homes_or_hospice['RES_ZIP'].value_counts()).reset_index()\n",
    "df_zipcodes_deaths = df_zipcodes_deaths.rename(columns = {\n",
    "    'index':'ZIPcode',\n",
    "    'RES_ZIP':'Deaths'\n",
    "})"
   ]
  },
  {
   "cell_type": "markdown",
   "metadata": {},
   "source": [
    "# 2. Cleaning up ZIP codes"
   ]
  },
  {
   "cell_type": "code",
   "execution_count": 233,
   "metadata": {},
   "outputs": [
    {
     "data": {
      "text/plain": [
       "array(['06902', 6514.0, '06112', 6605.0, 6850.0, 6385.0, 6120.0, '06451',\n",
       "       6484.0, 6706.0, '06032', 6320.0, 6905.0, '06401', '06042', 6607.0,\n",
       "       6098.0, '06375', 6419.0, '06482', '06019', '06497', '06050',\n",
       "       6422.0, '06719', '13205', '10452', '11210', 29582.0, 6250, '10475',\n",
       "       '12538'], dtype=object)"
      ]
     },
     "execution_count": 233,
     "metadata": {},
     "output_type": "execute_result"
    }
   ],
   "source": [
    "#need to clean; two problems — inconsistent 0s in front and decimal points\n",
    "df_zipcodes_deaths['ZIPcode'].unique()[::15]"
   ]
  },
  {
   "cell_type": "code",
   "execution_count": 234,
   "metadata": {},
   "outputs": [],
   "source": [
    "#function to clean ZIP codes; remove zero at the top if needed\n",
    "def remove_zero(x):\n",
    "    if (str(x)[0]) == '0':\n",
    "        return str(x)[1::]\n",
    "    else:\n",
    "        return str(x)\n",
    "    "
   ]
  },
  {
   "cell_type": "code",
   "execution_count": 235,
   "metadata": {},
   "outputs": [],
   "source": [
    "#function to clean ZIP codes; remove decimal places if needed\n",
    "def remove_decimals(x):\n",
    "    if (str(x)[-2::]) == '.0':\n",
    "        return str(x)[0:-2]\n",
    "    else:\n",
    "        return str(x) "
   ]
  },
  {
   "cell_type": "code",
   "execution_count": 236,
   "metadata": {},
   "outputs": [],
   "source": [
    "#cleaning zipcodes\n",
    "df_zipcodes_deaths['ZIPcode'] = df_zipcodes_deaths['ZIPcode'].apply(lambda x: remove_zero(x))\n",
    "df_zipcodes_deaths['ZIPcode'] = df_zipcodes_deaths['ZIPcode'].apply(lambda x: remove_decimals(x))"
   ]
  },
  {
   "cell_type": "code",
   "execution_count": 237,
   "metadata": {},
   "outputs": [],
   "source": [
    "#cleaned?\n",
    "df_zipcodes_deaths_cleaned = pd.DataFrame(df_zipcodes_deaths.groupby(by='ZIPcode')['Deaths'].sum()).reset_index().sort_values(by='Deaths', ascending=False)"
   ]
  },
  {
   "cell_type": "markdown",
   "metadata": {},
   "source": [
    "# 3. Merging w population data for rate calculation"
   ]
  },
  {
   "cell_type": "code",
   "execution_count": 238,
   "metadata": {},
   "outputs": [],
   "source": [
    "#read in file\n",
    "df_zipcodes_population = pd.read_csv('zipcodes_population.csv')"
   ]
  },
  {
   "cell_type": "code",
   "execution_count": 239,
   "metadata": {},
   "outputs": [],
   "source": [
    "#set datatypes\n",
    "df_zipcodes_population['Population'] = df_zipcodes_population['Population'].str.replace(',','').astype(int)\n",
    "df_zipcodes_population['ZIPcode'] = df_zipcodes_population['Zip Code'].astype(str)"
   ]
  },
  {
   "cell_type": "code",
   "execution_count": 240,
   "metadata": {},
   "outputs": [],
   "source": [
    "#merge, outer join (don't want to lose any death data here)\n",
    "df_final = df_zipcodes_deaths_cleaned.merge(df_zipcodes_population, left_on='ZIPcode', right_on='ZIPcode', how='outer')"
   ]
  },
  {
   "cell_type": "code",
   "execution_count": 241,
   "metadata": {},
   "outputs": [],
   "source": [
    "#rate calculation, sort, isolation of the top 50\n",
    "df_final['Deaths_per_100000'] = 100000*df_final['Deaths']/df_final['Population']\n",
    "df_final_top_50 = df_final.sort_values(by='Deaths_per_100000', ascending=False).head(50)"
   ]
  },
  {
   "cell_type": "markdown",
   "metadata": {},
   "source": [
    "# 4. Comparing with SVI list"
   ]
  },
  {
   "cell_type": "code",
   "execution_count": 242,
   "metadata": {},
   "outputs": [],
   "source": [
    "#read in the file\n",
    "df_svi = pd.read_csv('zipcodes.csv')"
   ]
  },
  {
   "cell_type": "code",
   "execution_count": 243,
   "metadata": {},
   "outputs": [],
   "source": [
    "#add column, set datatype\n",
    "df_svi['SVI']='SVI'\n",
    "df_svi['Zipcode'] = df_svi['Zipcode'].apply(lambda x: remove_decimals(x))"
   ]
  },
  {
   "cell_type": "code",
   "execution_count": 244,
   "metadata": {},
   "outputs": [],
   "source": [
    "#merge\n",
    "df_death_rate_vs_SVI_top_50 = df_final_top_50.merge(df_svi, left_on='ZIPcode', right_on='Zipcode', how='left')"
   ]
  },
  {
   "cell_type": "code",
   "execution_count": 245,
   "metadata": {},
   "outputs": [],
   "source": [
    "#all the SVI ZIP codes merge wheeee!\n",
    "df_final_final =df_final.merge(df_svi, left_on='ZIPcode', right_on='Zipcode', how='left')"
   ]
  },
  {
   "cell_type": "code",
   "execution_count": 246,
   "metadata": {},
   "outputs": [
    {
     "data": {
      "text/plain": [
       "NaN    31\n",
       "SVI    19\n",
       "Name: SVI, dtype: int64"
      ]
     },
     "execution_count": 246,
     "metadata": {},
     "output_type": "execute_result"
    }
   ],
   "source": [
    "#the majority of top-50 death rate zipcodes are not SVI zipcodes by the state's reckoning \n",
    "df_death_rate_vs_SVI['SVI'].value_counts(dropna=False)"
   ]
  },
  {
   "cell_type": "markdown",
   "metadata": {},
   "source": [
    "# 5. Mapping back to towns"
   ]
  },
  {
   "cell_type": "code",
   "execution_count": 249,
   "metadata": {},
   "outputs": [],
   "source": [
    "#read in file, set data type\n",
    "df_zips_to_towns = pd.read_csv('zipcode_to_town.csv')\n",
    "df_zips_to_towns['zip5'] = df_zips_to_towns['zip5'].astype(str)"
   ]
  },
  {
   "cell_type": "code",
   "execution_count": 250,
   "metadata": {},
   "outputs": [],
   "source": [
    "#merging so as not to lose any death data\n",
    "df_done = df_zips_to_towns.merge(df_final_final, left_on='zip5', right_on='ZIPcode', how='right')"
   ]
  },
  {
   "cell_type": "code",
   "execution_count": 253,
   "metadata": {},
   "outputs": [],
   "source": [
    "#for flourish viz\n",
    "df_done.to_clipboard()"
   ]
  },
  {
   "cell_type": "code",
   "execution_count": 260,
   "metadata": {},
   "outputs": [],
   "source": [
    "#discard the first Norwalk zipcode; seems very small, population is ridiculously tiny\n",
    "df_to_save = df_done[['town', 'county','ZIPcode','Deaths','Population','Deaths_per_100000','SVI']].sort_values(by='Deaths_per_100000', ascending=False).drop(203)"
   ]
  },
  {
   "cell_type": "code",
   "execution_count": 263,
   "metadata": {},
   "outputs": [
    {
     "data": {
      "text/plain": [
       "NaN    36\n",
       "SVI    24\n",
       "Name: SVI, dtype: int64"
      ]
     },
     "execution_count": 263,
     "metadata": {},
     "output_type": "execute_result"
    }
   ],
   "source": [
    "#top 60 \n",
    "df_to_save['SVI'].head(60).value_counts(dropna=False)"
   ]
  },
  {
   "cell_type": "code",
   "execution_count": 264,
   "metadata": {},
   "outputs": [
    {
     "data": {
      "text/plain": [
       "NaN    31\n",
       "SVI    19\n",
       "Name: SVI, dtype: int64"
      ]
     },
     "execution_count": 264,
     "metadata": {},
     "output_type": "execute_result"
    }
   ],
   "source": [
    "#top 50\n",
    "df_to_save['SVI'].head(50).value_counts(dropna=False)"
   ]
  },
  {
   "cell_type": "code",
   "execution_count": 267,
   "metadata": {},
   "outputs": [],
   "source": [
    "#save\n",
    "df_to_save.to_csv('SVI_vs_COVID_death_rate_zip.csv', index=False)"
   ]
  },
  {
   "cell_type": "markdown",
   "metadata": {},
   "source": [
    "# 6. Pearson correlation coefficient"
   ]
  },
  {
   "cell_type": "code",
   "execution_count": 269,
   "metadata": {},
   "outputs": [],
   "source": [
    "#isolate variables that we need\n",
    "df_for_corr = df_to_save[['Deaths_per_100000','SVI']]"
   ]
  },
  {
   "cell_type": "code",
   "execution_count": 273,
   "metadata": {},
   "outputs": [],
   "source": [
    "#convert categorical to numeric\n",
    "def convert_categorical_to_numeric(x):\n",
    "    if x =='SVI':\n",
    "        return 1\n",
    "    else: \n",
    "        return 0 \n",
    "    \n",
    "df_for_corr['SVI_numeric'] = df_for_corr['SVI'].apply(lambda x:convert_categorical_to_numeric(x) )"
   ]
  },
  {
   "cell_type": "code",
   "execution_count": 278,
   "metadata": {},
   "outputs": [
    {
     "data": {
      "text/html": [
       "<div>\n",
       "<style scoped>\n",
       "    .dataframe tbody tr th:only-of-type {\n",
       "        vertical-align: middle;\n",
       "    }\n",
       "\n",
       "    .dataframe tbody tr th {\n",
       "        vertical-align: top;\n",
       "    }\n",
       "\n",
       "    .dataframe thead th {\n",
       "        text-align: right;\n",
       "    }\n",
       "</style>\n",
       "<table border=\"1\" class=\"dataframe\">\n",
       "  <thead>\n",
       "    <tr style=\"text-align: right;\">\n",
       "      <th></th>\n",
       "      <th>Deaths_per_100000</th>\n",
       "      <th>SVI_numeric</th>\n",
       "    </tr>\n",
       "  </thead>\n",
       "  <tbody>\n",
       "    <tr>\n",
       "      <th>Deaths_per_100000</th>\n",
       "      <td>1.000000</td>\n",
       "      <td>0.249183</td>\n",
       "    </tr>\n",
       "    <tr>\n",
       "      <th>SVI_numeric</th>\n",
       "      <td>0.249183</td>\n",
       "      <td>1.000000</td>\n",
       "    </tr>\n",
       "  </tbody>\n",
       "</table>\n",
       "</div>"
      ],
      "text/plain": [
       "                   Deaths_per_100000  SVI_numeric\n",
       "Deaths_per_100000           1.000000     0.249183\n",
       "SVI_numeric                 0.249183     1.000000"
      ]
     },
     "execution_count": 278,
     "metadata": {},
     "output_type": "execute_result"
    }
   ],
   "source": [
    "#weak correlation\n",
    "df_for_corr.corr()"
   ]
  }
 ],
 "metadata": {
  "kernelspec": {
   "display_name": "Python 3",
   "language": "python",
   "name": "python3"
  },
  "language_info": {
   "codemirror_mode": {
    "name": "ipython",
    "version": 3
   },
   "file_extension": ".py",
   "mimetype": "text/x-python",
   "name": "python",
   "nbconvert_exporter": "python",
   "pygments_lexer": "ipython3",
   "version": "3.7.1"
  }
 },
 "nbformat": 4,
 "nbformat_minor": 4
}
